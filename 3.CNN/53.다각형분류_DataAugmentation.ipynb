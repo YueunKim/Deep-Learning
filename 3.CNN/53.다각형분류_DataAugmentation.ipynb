{
 "cells": [
  {
   "cell_type": "markdown",
   "metadata": {
    "colab_type": "text",
    "id": "3rG34xrNgE7I"
   },
   "source": [
    "# 원, 삼각형, 사각형 구분하기\n",
    "## 3. Data Augmentation을 사용한 CNN 모델"
   ]
  },
  {
   "cell_type": "markdown",
   "metadata": {},
   "source": [
    "#### https://tykimos.github.io/2017/06/10/CNN_Data_Augmentation/"
   ]
  },
  {
   "cell_type": "code",
   "execution_count": 1,
   "metadata": {
    "colab": {},
    "colab_type": "code",
    "id": "bwA2Lk7gilA1"
   },
   "outputs": [
    {
     "name": "stderr",
     "output_type": "stream",
     "text": [
      "Using TensorFlow backend.\n"
     ]
    }
   ],
   "source": [
    "import numpy as np\n",
    "import tensorflow as tf\n",
    "from tensorflow import keras\n",
    "from keras.models import Sequential\n",
    "from keras.layers import Dense, Flatten, Conv2D, MaxPooling2D\n",
    "from keras.preprocessing.image import ImageDataGenerator"
   ]
  },
  {
   "cell_type": "code",
   "execution_count": 2,
   "metadata": {},
   "outputs": [],
   "source": [
    "# seed 값 설정\n",
    "seed = 2020\n",
    "np.random.seed(seed)\n",
    "tf.random.set_seed(seed)"
   ]
  },
  {
   "cell_type": "markdown",
   "metadata": {
    "colab_type": "text",
    "id": "SjsMBcR0pnzv"
   },
   "source": [
    "### 데이터 부풀리기(Augmentation)"
   ]
  },
  {
   "cell_type": "code",
   "execution_count": 3,
   "metadata": {
    "colab": {},
    "colab_type": "code",
    "id": "aXdBt1YT11ud"
   },
   "outputs": [],
   "source": [
    "from keras.preprocessing.image import array_to_img, img_to_array, load_img"
   ]
  },
  {
   "cell_type": "code",
   "execution_count": 4,
   "metadata": {},
   "outputs": [],
   "source": [
    "# 데이터 부풀리기를 적용한 훈련 데이터 제너레이터\n",
    "train_datagen = ImageDataGenerator(rescale=1./255, \n",
    "                                   rotation_range=15,\n",
    "                                   width_shift_range=0.1,\n",
    "                                   height_shift_range=0.1,\n",
    "                                   shear_range=0.5,\n",
    "                                   zoom_range=[0.8, 2.0],\n",
    "                                   horizontal_flip=True,\n",
    "                                   vertical_flip=True,\n",
    "                                   fill_mode='nearest')"
   ]
  },
  {
   "cell_type": "code",
   "execution_count": 5,
   "metadata": {
    "colab": {},
    "colab_type": "code",
    "id": "9Ffv4Qcfkxd0"
   },
   "outputs": [],
   "source": [
    "img = load_img('hard_handwriting_shape/train/triangle/triangle001.png')\n",
    "x = img_to_array(img)\n",
    "x = x.reshape((1,) + x.shape)\n",
    "\n",
    "i = 0\n",
    "\n",
    "# 무한 for loop이니 주의!!!\n",
    "for batch in train_datagen.flow(x, batch_size=1, save_to_dir='preview',\n",
    "                                save_prefix='tri', save_format='png'):\n",
    "    i += 1\n",
    "    if i > 30: \n",
    "        break\n",
    "# preview파일에 30개 생성"
   ]
  },
  {
   "cell_type": "markdown",
   "metadata": {
    "colab_type": "text",
    "id": "2VFAvDns3n9d"
   },
   "source": [
    "### 데이터셋 생성하기"
   ]
  },
  {
   "cell_type": "code",
   "execution_count": 6,
   "metadata": {
    "colab": {
     "base_uri": "https://localhost:8080/",
     "height": 53
    },
    "colab_type": "code",
    "id": "g8ZZac3U3nWj",
    "outputId": "d6911fa9-f142-489d-aaac-c442e2a563b1"
   },
   "outputs": [
    {
     "name": "stdout",
     "output_type": "stream",
     "text": [
      "Found 45 images belonging to 3 classes.\n",
      "Found 15 images belonging to 3 classes.\n"
     ]
    }
   ],
   "source": [
    "train_generator = train_datagen.flow_from_directory(\n",
    "        'hard_handwriting_shape/train',\n",
    "        target_size=(24, 24),\n",
    "        batch_size=3,\n",
    "        class_mode='categorical')\n",
    "\n",
    "test_datagen = ImageDataGenerator(rescale=1./255)\n",
    "\n",
    "test_generator = test_datagen.flow_from_directory(\n",
    "        'hard_handwriting_shape/test',\n",
    "        target_size=(24, 24),    \n",
    "        batch_size=3,\n",
    "        class_mode='categorical')\n",
    "\n",
    "# 훈련할 때는 데이터 부풀리기를 하지만 테스트를 할 때는 원본데이터 그대로"
   ]
  },
  {
   "cell_type": "markdown",
   "metadata": {
    "colab_type": "text",
    "id": "K88bSm6wpwsK"
   },
   "source": [
    "### 모델 구성하기"
   ]
  },
  {
   "cell_type": "code",
   "execution_count": 7,
   "metadata": {
    "colab": {
     "base_uri": "https://localhost:8080/",
     "height": 377
    },
    "colab_type": "code",
    "id": "G5TOCJzIpVfR",
    "outputId": "50fcbc1c-f6b5-4923-9e24-0e29f5da5f38"
   },
   "outputs": [
    {
     "name": "stdout",
     "output_type": "stream",
     "text": [
      "Model: \"sequential_1\"\n",
      "_________________________________________________________________\n",
      "Layer (type)                 Output Shape              Param #   \n",
      "=================================================================\n",
      "conv2d_1 (Conv2D)            (None, 22, 22, 32)        896       \n",
      "_________________________________________________________________\n",
      "conv2d_2 (Conv2D)            (None, 20, 20, 64)        18496     \n",
      "_________________________________________________________________\n",
      "max_pooling2d_1 (MaxPooling2 (None, 10, 10, 64)        0         \n",
      "_________________________________________________________________\n",
      "flatten_1 (Flatten)          (None, 6400)              0         \n",
      "_________________________________________________________________\n",
      "dense_1 (Dense)              (None, 128)               819328    \n",
      "_________________________________________________________________\n",
      "dense_2 (Dense)              (None, 3)                 387       \n",
      "=================================================================\n",
      "Total params: 839,107\n",
      "Trainable params: 839,107\n",
      "Non-trainable params: 0\n",
      "_________________________________________________________________\n"
     ]
    }
   ],
   "source": [
    "model = Sequential()\n",
    "model.add(Conv2D(32, kernel_size=(3, 3),\n",
    "                 activation='relu', input_shape=(24,24,3)))\n",
    "model.add(Conv2D(64, (3, 3), activation='relu'))\n",
    "model.add(MaxPooling2D(pool_size=(2, 2)))\n",
    "model.add(Flatten())\n",
    "model.add(Dense(128, activation='relu'))\n",
    "model.add(Dense(3, activation='softmax'))\n",
    "model.summary()"
   ]
  },
  {
   "cell_type": "markdown",
   "metadata": {
    "colab_type": "text",
    "id": "wrjhuhJ2tEeA"
   },
   "source": [
    "### 모델 학습과정 설정하기"
   ]
  },
  {
   "cell_type": "code",
   "execution_count": 8,
   "metadata": {
    "colab": {},
    "colab_type": "code",
    "id": "hBUFfHV6sSRW"
   },
   "outputs": [],
   "source": [
    "model.compile(loss='categorical_crossentropy', \n",
    "              optimizer='adam', metrics=['accuracy'])"
   ]
  },
  {
   "cell_type": "markdown",
   "metadata": {
    "colab_type": "text",
    "id": "sZ_WQ05itPr9"
   },
   "source": [
    "### 모델 학습시키기\n",
    "- 첫번째 인자 : 훈련데이터셋을 제공할 제네레이터를 지정. 본 예제에서는 앞서 생성한 train_generator으로 지정.\n",
    "- steps_per_epoch : 한 epoch에 사용한 스텝 수를 지정. 총 45개의 훈련 샘플이 있고 배치사이즈가 3이므로 15 스텝으로 지정.\n",
    "- epochs : 전체 훈련 데이터셋에 대해 학습 반복 횟수를 지정. 200번을 반복적으로 학습.\n",
    "- validation_data : 검증데이터셋을 제공할 제네레이터를 지정. 본 예제에서는 앞서 생성한 validation_generator으로 지정.\n",
    "- validation_steps : 한 epoch 종료 시 마다 검증할 때 사용되는 검증 스텝 수를 지정. 홍 15개의 검증 샘플이 있고 배치사이즈가 3이므로 5 스텝으로 지정."
   ]
  },
  {
   "cell_type": "code",
   "execution_count": 9,
   "metadata": {
    "colab": {
     "base_uri": "https://localhost:8080/",
     "height": 1000
    },
    "colab_type": "code",
    "id": "oMzc0kFdtLMY",
    "outputId": "820a8ed5-d798-4b67-bac7-bb1b9384ab93"
   },
   "outputs": [
    {
     "name": "stdout",
     "output_type": "stream",
     "text": [
      "Epoch 1/200\n",
      "15/15 [==============================] - 0s 18ms/step - loss: 1.1867 - accuracy: 0.4000 - val_loss: 1.1025 - val_accuracy: 0.3333\n",
      "Epoch 2/200\n",
      "15/15 [==============================] - 0s 11ms/step - loss: 1.0913 - accuracy: 0.3333 - val_loss: 1.1486 - val_accuracy: 0.2667\n",
      "Epoch 3/200\n",
      "15/15 [==============================] - 0s 10ms/step - loss: 0.9780 - accuracy: 0.6444 - val_loss: 1.1727 - val_accuracy: 0.4667\n",
      "Epoch 4/200\n",
      "15/15 [==============================] - 0s 10ms/step - loss: 0.7895 - accuracy: 0.6667 - val_loss: 0.9612 - val_accuracy: 0.3333\n",
      "Epoch 5/200\n",
      "15/15 [==============================] - 0s 11ms/step - loss: 0.8033 - accuracy: 0.6444 - val_loss: 1.6188 - val_accuracy: 0.5333\n",
      "Epoch 6/200\n",
      "15/15 [==============================] - 0s 11ms/step - loss: 0.6876 - accuracy: 0.7556 - val_loss: 2.2473 - val_accuracy: 0.6667\n",
      "Epoch 7/200\n",
      "15/15 [==============================] - 0s 11ms/step - loss: 0.7888 - accuracy: 0.6667 - val_loss: 0.6287 - val_accuracy: 0.4667\n",
      "Epoch 8/200\n",
      "15/15 [==============================] - 0s 10ms/step - loss: 0.4846 - accuracy: 0.8222 - val_loss: 1.4489 - val_accuracy: 0.6000\n",
      "Epoch 9/200\n",
      "15/15 [==============================] - 0s 10ms/step - loss: 0.4576 - accuracy: 0.8444 - val_loss: 0.0448 - val_accuracy: 0.6667\n",
      "Epoch 10/200\n",
      "15/15 [==============================] - 0s 10ms/step - loss: 0.3497 - accuracy: 0.8444 - val_loss: 1.7135 - val_accuracy: 0.6667\n",
      "Epoch 11/200\n",
      "15/15 [==============================] - 0s 10ms/step - loss: 0.4028 - accuracy: 0.8444 - val_loss: 2.5734 - val_accuracy: 0.5333\n",
      "Epoch 12/200\n",
      "15/15 [==============================] - 0s 10ms/step - loss: 0.3890 - accuracy: 0.8222 - val_loss: 0.0954 - val_accuracy: 0.6667\n",
      "Epoch 13/200\n",
      "15/15 [==============================] - 0s 10ms/step - loss: 0.2719 - accuracy: 0.8889 - val_loss: 0.7951 - val_accuracy: 0.5333\n",
      "Epoch 14/200\n",
      "15/15 [==============================] - 0s 10ms/step - loss: 0.2042 - accuracy: 0.9111 - val_loss: 0.4409 - val_accuracy: 0.5333\n",
      "Epoch 15/200\n",
      "15/15 [==============================] - 0s 10ms/step - loss: 0.3171 - accuracy: 0.8444 - val_loss: 2.0292 - val_accuracy: 0.6667\n",
      "Epoch 16/200\n",
      "15/15 [==============================] - 0s 10ms/step - loss: 0.1338 - accuracy: 0.9556 - val_loss: 3.7617 - val_accuracy: 0.6000\n",
      "Epoch 17/200\n",
      "15/15 [==============================] - 0s 10ms/step - loss: 0.1134 - accuracy: 0.9556 - val_loss: 0.1228 - val_accuracy: 0.6667\n",
      "Epoch 18/200\n",
      "15/15 [==============================] - 0s 10ms/step - loss: 0.0786 - accuracy: 1.0000 - val_loss: 5.6125 - val_accuracy: 0.6667\n",
      "Epoch 19/200\n",
      "15/15 [==============================] - 0s 10ms/step - loss: 0.0709 - accuracy: 0.9778 - val_loss: 3.1738 - val_accuracy: 0.6000\n",
      "Epoch 20/200\n",
      "15/15 [==============================] - 0s 10ms/step - loss: 0.3245 - accuracy: 0.9333 - val_loss: 0.0525 - val_accuracy: 0.4667\n",
      "Epoch 21/200\n",
      "15/15 [==============================] - 0s 10ms/step - loss: 0.1236 - accuracy: 0.9556 - val_loss: 2.1476 - val_accuracy: 0.6000\n",
      "Epoch 22/200\n",
      "15/15 [==============================] - 0s 10ms/step - loss: 0.1663 - accuracy: 0.9333 - val_loss: 2.8699 - val_accuracy: 0.7333\n",
      "Epoch 23/200\n",
      "15/15 [==============================] - 0s 10ms/step - loss: 0.2180 - accuracy: 0.9556 - val_loss: 2.0149 - val_accuracy: 0.5333\n",
      "Epoch 24/200\n",
      "15/15 [==============================] - 0s 10ms/step - loss: 0.1196 - accuracy: 0.9556 - val_loss: 1.3522 - val_accuracy: 0.6000\n",
      "Epoch 25/200\n",
      "15/15 [==============================] - 0s 10ms/step - loss: 0.0994 - accuracy: 0.9556 - val_loss: 3.8152 - val_accuracy: 0.6000\n",
      "Epoch 26/200\n",
      "15/15 [==============================] - 0s 10ms/step - loss: 0.1247 - accuracy: 0.9778 - val_loss: 1.9384 - val_accuracy: 0.8000\n",
      "Epoch 27/200\n",
      "15/15 [==============================] - 0s 10ms/step - loss: 0.0747 - accuracy: 0.9778 - val_loss: 2.4002 - val_accuracy: 0.8000\n",
      "Epoch 28/200\n",
      "15/15 [==============================] - 0s 10ms/step - loss: 0.1002 - accuracy: 0.9556 - val_loss: 0.1905 - val_accuracy: 0.7333\n",
      "Epoch 29/200\n",
      "15/15 [==============================] - 0s 10ms/step - loss: 0.0900 - accuracy: 0.9556 - val_loss: 0.0336 - val_accuracy: 0.8000\n",
      "Epoch 30/200\n",
      "15/15 [==============================] - 0s 10ms/step - loss: 0.1259 - accuracy: 0.9556 - val_loss: 2.6777 - val_accuracy: 0.7333\n",
      "Epoch 31/200\n",
      "15/15 [==============================] - 0s 10ms/step - loss: 0.0763 - accuracy: 0.9778 - val_loss: 2.8953 - val_accuracy: 0.8000\n",
      "Epoch 32/200\n",
      "15/15 [==============================] - 0s 10ms/step - loss: 0.0424 - accuracy: 1.0000 - val_loss: 0.0041 - val_accuracy: 0.6667\n",
      "Epoch 33/200\n",
      "15/15 [==============================] - 0s 10ms/step - loss: 0.0686 - accuracy: 0.9778 - val_loss: 0.0066 - val_accuracy: 0.8000\n",
      "Epoch 34/200\n",
      "15/15 [==============================] - 0s 10ms/step - loss: 0.0481 - accuracy: 0.9778 - val_loss: 1.5978e-04 - val_accuracy: 0.8000\n",
      "Epoch 35/200\n",
      "15/15 [==============================] - 0s 10ms/step - loss: 0.0342 - accuracy: 1.0000 - val_loss: 0.0127 - val_accuracy: 0.7333\n",
      "Epoch 36/200\n",
      "15/15 [==============================] - 0s 10ms/step - loss: 0.0267 - accuracy: 1.0000 - val_loss: 3.3832 - val_accuracy: 0.7333\n",
      "Epoch 37/200\n",
      "15/15 [==============================] - 0s 10ms/step - loss: 0.0054 - accuracy: 1.0000 - val_loss: 0.3168 - val_accuracy: 0.7333\n",
      "Epoch 38/200\n",
      "15/15 [==============================] - 0s 10ms/step - loss: 0.0670 - accuracy: 0.9778 - val_loss: 1.8484 - val_accuracy: 0.6667\n",
      "Epoch 39/200\n",
      "15/15 [==============================] - 0s 10ms/step - loss: 0.1195 - accuracy: 0.9556 - val_loss: 3.4271e-04 - val_accuracy: 0.6667\n",
      "Epoch 40/200\n",
      "15/15 [==============================] - 0s 10ms/step - loss: 0.0293 - accuracy: 1.0000 - val_loss: 0.2828 - val_accuracy: 0.6667\n",
      "Epoch 41/200\n",
      "15/15 [==============================] - 0s 10ms/step - loss: 0.0679 - accuracy: 0.9778 - val_loss: 4.2634e-04 - val_accuracy: 0.7333\n",
      "Epoch 42/200\n",
      "15/15 [==============================] - 0s 10ms/step - loss: 0.1046 - accuracy: 0.9556 - val_loss: 4.0269 - val_accuracy: 0.8000\n",
      "Epoch 43/200\n",
      "15/15 [==============================] - 0s 10ms/step - loss: 0.1959 - accuracy: 0.8889 - val_loss: 5.7621 - val_accuracy: 0.5333\n",
      "Epoch 44/200\n",
      "15/15 [==============================] - 0s 10ms/step - loss: 0.1421 - accuracy: 0.9333 - val_loss: 0.0058 - val_accuracy: 0.6667\n",
      "Epoch 45/200\n",
      "15/15 [==============================] - 0s 10ms/step - loss: 0.1164 - accuracy: 0.9333 - val_loss: 0.4832 - val_accuracy: 0.6667\n",
      "Epoch 46/200\n",
      "15/15 [==============================] - 0s 11ms/step - loss: 0.0417 - accuracy: 1.0000 - val_loss: 0.3437 - val_accuracy: 0.7333\n",
      "Epoch 47/200\n",
      "15/15 [==============================] - 0s 10ms/step - loss: 0.0241 - accuracy: 1.0000 - val_loss: 1.0003 - val_accuracy: 0.7333\n",
      "Epoch 48/200\n",
      "15/15 [==============================] - 0s 11ms/step - loss: 0.0289 - accuracy: 1.0000 - val_loss: 0.6926 - val_accuracy: 0.7333\n",
      "Epoch 49/200\n",
      "15/15 [==============================] - 0s 10ms/step - loss: 0.0332 - accuracy: 0.9778 - val_loss: 3.8887 - val_accuracy: 0.7333\n",
      "Epoch 50/200\n",
      "15/15 [==============================] - 0s 11ms/step - loss: 0.0320 - accuracy: 0.9778 - val_loss: 5.5008e-04 - val_accuracy: 0.7333\n",
      "Epoch 51/200\n",
      "15/15 [==============================] - 0s 10ms/step - loss: 0.0444 - accuracy: 0.9778 - val_loss: 1.3103e-04 - val_accuracy: 0.8000\n",
      "Epoch 52/200\n",
      "15/15 [==============================] - 0s 10ms/step - loss: 0.0681 - accuracy: 0.9778 - val_loss: 0.0186 - val_accuracy: 0.6667\n",
      "Epoch 53/200\n",
      "15/15 [==============================] - 0s 10ms/step - loss: 0.1548 - accuracy: 0.9333 - val_loss: 9.8545e-06 - val_accuracy: 0.6667\n",
      "Epoch 54/200\n",
      "15/15 [==============================] - 0s 10ms/step - loss: 0.0578 - accuracy: 0.9556 - val_loss: 8.2593 - val_accuracy: 0.4667\n",
      "Epoch 55/200\n",
      "15/15 [==============================] - 0s 10ms/step - loss: 0.0860 - accuracy: 0.9556 - val_loss: 0.4060 - val_accuracy: 0.7333\n",
      "Epoch 56/200\n",
      "15/15 [==============================] - 0s 10ms/step - loss: 0.0175 - accuracy: 1.0000 - val_loss: 0.7597 - val_accuracy: 0.8000\n",
      "Epoch 57/200\n",
      "15/15 [==============================] - 0s 11ms/step - loss: 0.0425 - accuracy: 0.9778 - val_loss: 5.5066 - val_accuracy: 0.7333\n",
      "Epoch 58/200\n"
     ]
    },
    {
     "name": "stdout",
     "output_type": "stream",
     "text": [
      "15/15 [==============================] - 0s 10ms/step - loss: 0.0300 - accuracy: 0.9778 - val_loss: 0.7126 - val_accuracy: 0.7333\n",
      "Epoch 59/200\n",
      "15/15 [==============================] - 0s 10ms/step - loss: 0.0868 - accuracy: 0.9556 - val_loss: 0.5976 - val_accuracy: 0.7333\n",
      "Epoch 60/200\n",
      "15/15 [==============================] - 0s 10ms/step - loss: 0.1285 - accuracy: 0.9556 - val_loss: 3.7744 - val_accuracy: 0.7333\n",
      "Epoch 61/200\n",
      "15/15 [==============================] - 0s 10ms/step - loss: 0.0258 - accuracy: 1.0000 - val_loss: 0.0222 - val_accuracy: 0.6667\n",
      "Epoch 62/200\n",
      "15/15 [==============================] - 0s 10ms/step - loss: 0.0477 - accuracy: 0.9778 - val_loss: 0.2643 - val_accuracy: 0.7333\n",
      "Epoch 63/200\n",
      "15/15 [==============================] - 0s 10ms/step - loss: 0.0552 - accuracy: 0.9556 - val_loss: 0.1547 - val_accuracy: 0.7333\n",
      "Epoch 64/200\n",
      "15/15 [==============================] - 0s 10ms/step - loss: 0.0798 - accuracy: 0.9778 - val_loss: 4.8956 - val_accuracy: 0.7333\n",
      "Epoch 65/200\n",
      "15/15 [==============================] - 0s 10ms/step - loss: 0.0036 - accuracy: 1.0000 - val_loss: 0.1156 - val_accuracy: 0.8000\n",
      "Epoch 66/200\n",
      "15/15 [==============================] - 0s 10ms/step - loss: 0.1893 - accuracy: 0.9333 - val_loss: 0.8221 - val_accuracy: 0.7333\n",
      "Epoch 67/200\n",
      "15/15 [==============================] - 0s 11ms/step - loss: 0.0621 - accuracy: 0.9778 - val_loss: 0.2576 - val_accuracy: 0.6667\n",
      "Epoch 68/200\n",
      "15/15 [==============================] - 0s 11ms/step - loss: 0.0649 - accuracy: 0.9778 - val_loss: 3.3364 - val_accuracy: 0.8000\n",
      "Epoch 69/200\n",
      "15/15 [==============================] - 0s 11ms/step - loss: 0.1147 - accuracy: 0.9556 - val_loss: 8.6129 - val_accuracy: 0.6667\n",
      "Epoch 70/200\n",
      "15/15 [==============================] - 0s 11ms/step - loss: 0.0400 - accuracy: 0.9778 - val_loss: 7.2333 - val_accuracy: 0.6667\n",
      "Epoch 71/200\n",
      "15/15 [==============================] - 0s 10ms/step - loss: 0.0026 - accuracy: 1.0000 - val_loss: 0.4957 - val_accuracy: 0.6667\n",
      "Epoch 72/200\n",
      "15/15 [==============================] - 0s 10ms/step - loss: 0.0797 - accuracy: 0.9556 - val_loss: 7.9575 - val_accuracy: 0.6667\n",
      "Epoch 73/200\n",
      "15/15 [==============================] - 0s 10ms/step - loss: 0.0761 - accuracy: 0.9778 - val_loss: 3.9736e-07 - val_accuracy: 0.6667\n",
      "Epoch 74/200\n",
      "15/15 [==============================] - 0s 10ms/step - loss: 0.0474 - accuracy: 0.9778 - val_loss: 0.0451 - val_accuracy: 0.6667\n",
      "Epoch 75/200\n",
      "15/15 [==============================] - 0s 10ms/step - loss: 0.0202 - accuracy: 0.9778 - val_loss: 1.1288 - val_accuracy: 0.8000\n",
      "Epoch 76/200\n",
      "15/15 [==============================] - 0s 10ms/step - loss: 0.0182 - accuracy: 1.0000 - val_loss: 0.3541 - val_accuracy: 0.7333\n",
      "Epoch 77/200\n",
      "15/15 [==============================] - 0s 10ms/step - loss: 0.0167 - accuracy: 1.0000 - val_loss: 10.7802 - val_accuracy: 0.6667\n",
      "Epoch 78/200\n",
      "15/15 [==============================] - 0s 10ms/step - loss: 0.0164 - accuracy: 1.0000 - val_loss: 4.7187 - val_accuracy: 0.6667\n",
      "Epoch 79/200\n",
      "15/15 [==============================] - 0s 10ms/step - loss: 0.0098 - accuracy: 1.0000 - val_loss: 0.8668 - val_accuracy: 0.6000\n",
      "Epoch 80/200\n",
      "15/15 [==============================] - 0s 10ms/step - loss: 0.0266 - accuracy: 0.9778 - val_loss: 3.5120 - val_accuracy: 0.6667\n",
      "Epoch 81/200\n",
      "15/15 [==============================] - 0s 10ms/step - loss: 0.0168 - accuracy: 1.0000 - val_loss: 0.7948 - val_accuracy: 0.6667\n",
      "Epoch 82/200\n",
      "15/15 [==============================] - 0s 10ms/step - loss: 0.0072 - accuracy: 1.0000 - val_loss: 9.4604 - val_accuracy: 0.6667\n",
      "Epoch 83/200\n",
      "15/15 [==============================] - 0s 10ms/step - loss: 0.0961 - accuracy: 0.9778 - val_loss: 3.1129 - val_accuracy: 0.8000\n",
      "Epoch 84/200\n",
      "15/15 [==============================] - 0s 11ms/step - loss: 0.0489 - accuracy: 0.9778 - val_loss: 2.2441 - val_accuracy: 0.7333\n",
      "Epoch 85/200\n",
      "15/15 [==============================] - 0s 10ms/step - loss: 0.0786 - accuracy: 0.9778 - val_loss: 0.0105 - val_accuracy: 0.7333\n",
      "Epoch 86/200\n",
      "15/15 [==============================] - 0s 10ms/step - loss: 0.0048 - accuracy: 1.0000 - val_loss: 0.0210 - val_accuracy: 0.7333\n",
      "Epoch 87/200\n",
      "15/15 [==============================] - 0s 10ms/step - loss: 0.2281 - accuracy: 0.9556 - val_loss: 4.3140 - val_accuracy: 0.6667\n",
      "Epoch 88/200\n",
      "15/15 [==============================] - 0s 10ms/step - loss: 0.0362 - accuracy: 0.9778 - val_loss: 5.1783 - val_accuracy: 0.7333\n",
      "Epoch 89/200\n",
      "15/15 [==============================] - 0s 10ms/step - loss: 0.2238 - accuracy: 0.9778 - val_loss: 3.1560 - val_accuracy: 0.7333\n",
      "Epoch 90/200\n",
      "15/15 [==============================] - 0s 10ms/step - loss: 0.0221 - accuracy: 1.0000 - val_loss: 4.3603 - val_accuracy: 0.6667\n",
      "Epoch 91/200\n",
      "15/15 [==============================] - 0s 10ms/step - loss: 0.0683 - accuracy: 0.9778 - val_loss: 4.6430 - val_accuracy: 0.7333\n",
      "Epoch 92/200\n",
      "15/15 [==============================] - 0s 10ms/step - loss: 0.0651 - accuracy: 0.9333 - val_loss: 7.0010e-05 - val_accuracy: 0.7333\n",
      "Epoch 93/200\n",
      "15/15 [==============================] - 0s 10ms/step - loss: 0.0250 - accuracy: 0.9778 - val_loss: 4.0359 - val_accuracy: 0.8000\n",
      "Epoch 94/200\n",
      "15/15 [==============================] - 0s 10ms/step - loss: 0.1877 - accuracy: 0.9111 - val_loss: 0.0512 - val_accuracy: 0.7333\n",
      "Epoch 95/200\n",
      "15/15 [==============================] - 0s 10ms/step - loss: 0.0473 - accuracy: 0.9778 - val_loss: 4.8860e-04 - val_accuracy: 0.6667\n",
      "Epoch 96/200\n",
      "15/15 [==============================] - 0s 10ms/step - loss: 0.0350 - accuracy: 1.0000 - val_loss: 0.0072 - val_accuracy: 0.7333\n",
      "Epoch 97/200\n",
      "15/15 [==============================] - 0s 10ms/step - loss: 0.0170 - accuracy: 1.0000 - val_loss: 4.6012 - val_accuracy: 0.8000\n",
      "Epoch 98/200\n",
      "15/15 [==============================] - 0s 10ms/step - loss: 0.0070 - accuracy: 1.0000 - val_loss: 0.0017 - val_accuracy: 0.8000\n",
      "Epoch 99/200\n",
      "15/15 [==============================] - 0s 10ms/step - loss: 0.0104 - accuracy: 1.0000 - val_loss: 8.7120e-04 - val_accuracy: 0.7333\n",
      "Epoch 100/200\n",
      "15/15 [==============================] - 0s 10ms/step - loss: 0.0369 - accuracy: 0.9778 - val_loss: 0.0039 - val_accuracy: 0.6667\n",
      "Epoch 101/200\n",
      "15/15 [==============================] - 0s 10ms/step - loss: 0.0479 - accuracy: 0.9778 - val_loss: 7.8840 - val_accuracy: 0.8000\n",
      "Epoch 102/200\n",
      "15/15 [==============================] - 0s 10ms/step - loss: 0.0966 - accuracy: 0.9778 - val_loss: 0.0093 - val_accuracy: 0.6000\n",
      "Epoch 103/200\n",
      "15/15 [==============================] - 0s 10ms/step - loss: 0.0642 - accuracy: 0.9778 - val_loss: 3.9736e-08 - val_accuracy: 0.6000\n",
      "Epoch 104/200\n",
      "15/15 [==============================] - 0s 10ms/step - loss: 0.0088 - accuracy: 1.0000 - val_loss: 0.0344 - val_accuracy: 0.6000\n",
      "Epoch 105/200\n",
      "15/15 [==============================] - 0s 10ms/step - loss: 0.0550 - accuracy: 0.9778 - val_loss: 5.0597 - val_accuracy: 0.6000\n",
      "Epoch 106/200\n",
      "15/15 [==============================] - 0s 10ms/step - loss: 0.0817 - accuracy: 0.9333 - val_loss: 3.6925 - val_accuracy: 0.7333\n",
      "Epoch 107/200\n",
      "15/15 [==============================] - 0s 10ms/step - loss: 0.0398 - accuracy: 0.9778 - val_loss: 4.4890 - val_accuracy: 0.8000\n",
      "Epoch 108/200\n",
      "15/15 [==============================] - 0s 10ms/step - loss: 0.0032 - accuracy: 1.0000 - val_loss: 2.5368 - val_accuracy: 0.8000\n",
      "Epoch 109/200\n",
      "15/15 [==============================] - 0s 10ms/step - loss: 0.1617 - accuracy: 0.9556 - val_loss: 7.8067 - val_accuracy: 0.7333\n",
      "Epoch 110/200\n",
      "15/15 [==============================] - 0s 10ms/step - loss: 0.0335 - accuracy: 0.9778 - val_loss: 0.2189 - val_accuracy: 0.6667\n",
      "Epoch 111/200\n",
      "15/15 [==============================] - 0s 10ms/step - loss: 0.0211 - accuracy: 1.0000 - val_loss: 0.1317 - val_accuracy: 0.7333\n",
      "Epoch 112/200\n",
      "15/15 [==============================] - 0s 10ms/step - loss: 0.1181 - accuracy: 0.9778 - val_loss: 1.8812 - val_accuracy: 0.8000\n",
      "Epoch 113/200\n",
      "15/15 [==============================] - 0s 10ms/step - loss: 0.0212 - accuracy: 1.0000 - val_loss: 2.9986 - val_accuracy: 0.8000\n",
      "Epoch 114/200\n",
      "15/15 [==============================] - 0s 10ms/step - loss: 0.0180 - accuracy: 1.0000 - val_loss: 6.5708 - val_accuracy: 0.6667\n",
      "Epoch 115/200\n"
     ]
    },
    {
     "name": "stdout",
     "output_type": "stream",
     "text": [
      "15/15 [==============================] - 0s 10ms/step - loss: 0.1380 - accuracy: 0.9778 - val_loss: 2.8256 - val_accuracy: 0.8667\n",
      "Epoch 116/200\n",
      "15/15 [==============================] - 0s 10ms/step - loss: 0.0861 - accuracy: 0.9556 - val_loss: 0.1655 - val_accuracy: 0.7333\n",
      "Epoch 117/200\n",
      "15/15 [==============================] - 0s 10ms/step - loss: 0.1018 - accuracy: 0.9556 - val_loss: 0.5920 - val_accuracy: 0.6000\n",
      "Epoch 118/200\n",
      "15/15 [==============================] - 0s 10ms/step - loss: 0.0482 - accuracy: 1.0000 - val_loss: 0.9337 - val_accuracy: 0.5333\n",
      "Epoch 119/200\n",
      "15/15 [==============================] - 0s 10ms/step - loss: 0.1187 - accuracy: 0.9556 - val_loss: 5.4933 - val_accuracy: 0.8000\n",
      "Epoch 120/200\n",
      "15/15 [==============================] - 0s 10ms/step - loss: 0.0142 - accuracy: 1.0000 - val_loss: 1.1785e-04 - val_accuracy: 0.7333\n",
      "Epoch 121/200\n",
      "15/15 [==============================] - 0s 10ms/step - loss: 0.0100 - accuracy: 1.0000 - val_loss: 0.1844 - val_accuracy: 0.7333\n",
      "Epoch 122/200\n",
      "15/15 [==============================] - 0s 10ms/step - loss: 0.0025 - accuracy: 1.0000 - val_loss: 2.0343 - val_accuracy: 0.7333\n",
      "Epoch 123/200\n",
      "15/15 [==============================] - 0s 10ms/step - loss: 0.0436 - accuracy: 0.9778 - val_loss: 5.2007 - val_accuracy: 0.8000\n",
      "Epoch 124/200\n",
      "15/15 [==============================] - 0s 10ms/step - loss: 0.0108 - accuracy: 1.0000 - val_loss: 5.2388 - val_accuracy: 0.8000\n",
      "Epoch 125/200\n",
      "15/15 [==============================] - 0s 10ms/step - loss: 0.0050 - accuracy: 1.0000 - val_loss: 5.2473 - val_accuracy: 0.7333\n",
      "Epoch 126/200\n",
      "15/15 [==============================] - 0s 10ms/step - loss: 0.0250 - accuracy: 0.9778 - val_loss: 6.2767 - val_accuracy: 0.7333\n",
      "Epoch 127/200\n",
      "15/15 [==============================] - 0s 10ms/step - loss: 0.0024 - accuracy: 1.0000 - val_loss: 1.3761 - val_accuracy: 0.8000\n",
      "Epoch 128/200\n",
      "15/15 [==============================] - 0s 10ms/step - loss: 0.0198 - accuracy: 1.0000 - val_loss: 12.7095 - val_accuracy: 0.6667\n",
      "Epoch 129/200\n",
      "15/15 [==============================] - 0s 10ms/step - loss: 0.0100 - accuracy: 1.0000 - val_loss: 7.9473e-08 - val_accuracy: 0.6667\n",
      "Epoch 130/200\n",
      "15/15 [==============================] - 0s 10ms/step - loss: 9.2569e-04 - accuracy: 1.0000 - val_loss: 7.2124 - val_accuracy: 0.7333\n",
      "Epoch 131/200\n",
      "15/15 [==============================] - 0s 10ms/step - loss: 4.6990e-04 - accuracy: 1.0000 - val_loss: 7.4095 - val_accuracy: 0.7333\n",
      "Epoch 132/200\n",
      "15/15 [==============================] - 0s 10ms/step - loss: 0.0112 - accuracy: 1.0000 - val_loss: 0.2945 - val_accuracy: 0.6667\n",
      "Epoch 133/200\n",
      "15/15 [==============================] - 0s 10ms/step - loss: 0.0143 - accuracy: 1.0000 - val_loss: 7.2848 - val_accuracy: 0.6000\n",
      "Epoch 134/200\n",
      "15/15 [==============================] - 0s 10ms/step - loss: 4.8797e-04 - accuracy: 1.0000 - val_loss: 0.2211 - val_accuracy: 0.6667\n",
      "Epoch 135/200\n",
      "15/15 [==============================] - 0s 10ms/step - loss: 6.7913e-04 - accuracy: 1.0000 - val_loss: 6.3574 - val_accuracy: 0.6667\n",
      "Epoch 136/200\n",
      "15/15 [==============================] - 0s 10ms/step - loss: 0.0137 - accuracy: 1.0000 - val_loss: 0.0261 - val_accuracy: 0.6000\n",
      "Epoch 137/200\n",
      "15/15 [==============================] - 0s 10ms/step - loss: 0.0697 - accuracy: 0.9778 - val_loss: 1.2246e-04 - val_accuracy: 0.7333\n",
      "Epoch 138/200\n",
      "15/15 [==============================] - 0s 10ms/step - loss: 0.0238 - accuracy: 0.9778 - val_loss: 5.0746 - val_accuracy: 0.7333\n",
      "Epoch 139/200\n",
      "15/15 [==============================] - 0s 10ms/step - loss: 0.0144 - accuracy: 1.0000 - val_loss: 0.7332 - val_accuracy: 0.8000\n",
      "Epoch 140/200\n",
      "15/15 [==============================] - 0s 10ms/step - loss: 0.0063 - accuracy: 1.0000 - val_loss: 5.8098 - val_accuracy: 0.8000\n",
      "Epoch 141/200\n",
      "15/15 [==============================] - 0s 10ms/step - loss: 0.0114 - accuracy: 1.0000 - val_loss: 5.0976 - val_accuracy: 0.7333\n",
      "Epoch 142/200\n",
      "15/15 [==============================] - 0s 10ms/step - loss: 0.0091 - accuracy: 1.0000 - val_loss: 0.0033 - val_accuracy: 0.7333\n",
      "Epoch 143/200\n",
      "15/15 [==============================] - 0s 10ms/step - loss: 0.0029 - accuracy: 1.0000 - val_loss: 0.0033 - val_accuracy: 0.8000\n",
      "Epoch 144/200\n",
      "15/15 [==============================] - 0s 10ms/step - loss: 0.0080 - accuracy: 1.0000 - val_loss: 1.3481 - val_accuracy: 0.8000\n",
      "Epoch 145/200\n",
      "15/15 [==============================] - 0s 10ms/step - loss: 0.0013 - accuracy: 1.0000 - val_loss: 5.8374 - val_accuracy: 0.8000\n",
      "Epoch 146/200\n",
      "15/15 [==============================] - 0s 10ms/step - loss: 0.0059 - accuracy: 1.0000 - val_loss: 5.9270 - val_accuracy: 0.7333\n",
      "Epoch 147/200\n",
      "15/15 [==============================] - 0s 10ms/step - loss: 1.1263e-04 - accuracy: 1.0000 - val_loss: 0.0012 - val_accuracy: 0.7333\n",
      "Epoch 148/200\n",
      "15/15 [==============================] - 0s 10ms/step - loss: 0.0430 - accuracy: 0.9778 - val_loss: 1.8676e-06 - val_accuracy: 0.8000\n",
      "Epoch 149/200\n",
      "15/15 [==============================] - 0s 10ms/step - loss: 0.0014 - accuracy: 1.0000 - val_loss: 4.1971 - val_accuracy: 0.8000\n",
      "Epoch 150/200\n",
      "15/15 [==============================] - 0s 10ms/step - loss: 0.0687 - accuracy: 0.9556 - val_loss: 8.3080 - val_accuracy: 0.5333\n",
      "Epoch 151/200\n",
      "15/15 [==============================] - 0s 10ms/step - loss: 0.0121 - accuracy: 1.0000 - val_loss: 8.3730 - val_accuracy: 0.6000\n",
      "Epoch 152/200\n",
      "15/15 [==============================] - 0s 10ms/step - loss: 0.0075 - accuracy: 1.0000 - val_loss: 0.0713 - val_accuracy: 0.6667\n",
      "Epoch 153/200\n",
      "15/15 [==============================] - 0s 10ms/step - loss: 0.0062 - accuracy: 1.0000 - val_loss: 0.0047 - val_accuracy: 0.7333\n",
      "Epoch 154/200\n",
      "15/15 [==============================] - 0s 10ms/step - loss: 0.0036 - accuracy: 1.0000 - val_loss: 1.8412 - val_accuracy: 0.7333\n",
      "Epoch 155/200\n",
      "15/15 [==============================] - 0s 10ms/step - loss: 7.1134e-04 - accuracy: 1.0000 - val_loss: 6.5507 - val_accuracy: 0.7333\n",
      "Epoch 156/200\n",
      "15/15 [==============================] - 0s 10ms/step - loss: 7.3462e-04 - accuracy: 1.0000 - val_loss: 3.8458 - val_accuracy: 0.7333\n",
      "Epoch 157/200\n",
      "15/15 [==============================] - 0s 10ms/step - loss: 5.0304e-05 - accuracy: 1.0000 - val_loss: 13.4705 - val_accuracy: 0.7333\n",
      "Epoch 158/200\n",
      "15/15 [==============================] - 0s 10ms/step - loss: 7.6681e-04 - accuracy: 1.0000 - val_loss: 0.0136 - val_accuracy: 0.7333\n",
      "Epoch 159/200\n",
      "15/15 [==============================] - 0s 10ms/step - loss: 0.0614 - accuracy: 0.9778 - val_loss: 4.1894 - val_accuracy: 0.6667\n",
      "Epoch 160/200\n",
      "15/15 [==============================] - 0s 10ms/step - loss: 0.0026 - accuracy: 1.0000 - val_loss: 0.0086 - val_accuracy: 0.6667\n",
      "Epoch 161/200\n",
      "15/15 [==============================] - 0s 10ms/step - loss: 0.0836 - accuracy: 0.9778 - val_loss: 5.6987 - val_accuracy: 0.6000\n",
      "Epoch 162/200\n",
      "15/15 [==============================] - 0s 10ms/step - loss: 0.2475 - accuracy: 0.9778 - val_loss: 6.6545 - val_accuracy: 0.6000\n",
      "Epoch 163/200\n",
      "15/15 [==============================] - 0s 10ms/step - loss: 0.0235 - accuracy: 0.9778 - val_loss: 8.1247 - val_accuracy: 0.5333\n",
      "Epoch 164/200\n",
      "15/15 [==============================] - 0s 10ms/step - loss: 0.0445 - accuracy: 0.9778 - val_loss: 2.7173 - val_accuracy: 0.5333\n",
      "Epoch 165/200\n",
      "15/15 [==============================] - 0s 10ms/step - loss: 0.0112 - accuracy: 1.0000 - val_loss: 4.9621 - val_accuracy: 0.6000\n",
      "Epoch 166/200\n",
      "15/15 [==============================] - 0s 10ms/step - loss: 0.0036 - accuracy: 1.0000 - val_loss: 4.2140 - val_accuracy: 0.6000\n",
      "Epoch 167/200\n",
      "15/15 [==============================] - 0s 10ms/step - loss: 0.0065 - accuracy: 1.0000 - val_loss: 3.0703e-04 - val_accuracy: 0.6667\n",
      "Epoch 168/200\n",
      "15/15 [==============================] - 0s 10ms/step - loss: 0.0655 - accuracy: 0.9778 - val_loss: 7.3533 - val_accuracy: 0.6667\n",
      "Epoch 169/200\n",
      "15/15 [==============================] - 0s 10ms/step - loss: 0.0516 - accuracy: 0.9778 - val_loss: 3.0414 - val_accuracy: 0.6000\n",
      "Epoch 170/200\n",
      "15/15 [==============================] - 0s 10ms/step - loss: 0.0654 - accuracy: 0.9778 - val_loss: 4.3149 - val_accuracy: 0.7333\n",
      "Epoch 171/200\n"
     ]
    },
    {
     "name": "stdout",
     "output_type": "stream",
     "text": [
      "15/15 [==============================] - 0s 10ms/step - loss: 0.0087 - accuracy: 1.0000 - val_loss: 0.0700 - val_accuracy: 0.7333\n",
      "Epoch 172/200\n",
      "15/15 [==============================] - 0s 10ms/step - loss: 0.1072 - accuracy: 0.9778 - val_loss: 3.0509 - val_accuracy: 0.8000\n",
      "Epoch 173/200\n",
      "15/15 [==============================] - 0s 10ms/step - loss: 0.1383 - accuracy: 0.9556 - val_loss: 6.4933 - val_accuracy: 0.6667\n",
      "Epoch 174/200\n",
      "15/15 [==============================] - 0s 10ms/step - loss: 0.0739 - accuracy: 0.9556 - val_loss: 0.6972 - val_accuracy: 0.7333\n",
      "Epoch 175/200\n",
      "15/15 [==============================] - 0s 10ms/step - loss: 0.0263 - accuracy: 1.0000 - val_loss: 3.5245 - val_accuracy: 0.8000\n",
      "Epoch 176/200\n",
      "15/15 [==============================] - 0s 10ms/step - loss: 0.0309 - accuracy: 0.9778 - val_loss: 1.7555e-04 - val_accuracy: 0.8000\n",
      "Epoch 177/200\n",
      "15/15 [==============================] - 0s 10ms/step - loss: 0.0221 - accuracy: 0.9778 - val_loss: 2.8692 - val_accuracy: 0.7333\n",
      "Epoch 178/200\n",
      "15/15 [==============================] - 0s 10ms/step - loss: 0.0065 - accuracy: 1.0000 - val_loss: 2.3969 - val_accuracy: 0.7333\n",
      "Epoch 179/200\n",
      "15/15 [==============================] - 0s 10ms/step - loss: 0.0036 - accuracy: 1.0000 - val_loss: 2.5536 - val_accuracy: 0.7333\n",
      "Epoch 180/200\n",
      "15/15 [==============================] - 0s 10ms/step - loss: 0.0655 - accuracy: 0.9778 - val_loss: 2.8878 - val_accuracy: 0.8000\n",
      "Epoch 181/200\n",
      "15/15 [==============================] - 0s 10ms/step - loss: 0.0038 - accuracy: 1.0000 - val_loss: 3.6985 - val_accuracy: 0.8000\n",
      "Epoch 182/200\n",
      "15/15 [==============================] - 0s 10ms/step - loss: 3.7933e-04 - accuracy: 1.0000 - val_loss: 8.4156e-05 - val_accuracy: 0.8000\n",
      "Epoch 183/200\n",
      "15/15 [==============================] - 0s 10ms/step - loss: 0.0394 - accuracy: 0.9778 - val_loss: 4.3809 - val_accuracy: 0.8000\n",
      "Epoch 184/200\n",
      "15/15 [==============================] - 0s 10ms/step - loss: 0.0579 - accuracy: 0.9778 - val_loss: 2.8329 - val_accuracy: 0.6000\n",
      "Epoch 185/200\n",
      "15/15 [==============================] - 0s 10ms/step - loss: 0.0430 - accuracy: 0.9556 - val_loss: 0.3299 - val_accuracy: 0.6667\n",
      "Epoch 186/200\n",
      "15/15 [==============================] - 0s 10ms/step - loss: 0.0134 - accuracy: 1.0000 - val_loss: 0.9987 - val_accuracy: 0.6000\n",
      "Epoch 187/200\n",
      "15/15 [==============================] - 0s 10ms/step - loss: 0.0035 - accuracy: 1.0000 - val_loss: 6.5162 - val_accuracy: 0.6667\n",
      "Epoch 188/200\n",
      "15/15 [==============================] - 0s 10ms/step - loss: 0.0394 - accuracy: 0.9778 - val_loss: 0.0140 - val_accuracy: 0.8000\n",
      "Epoch 189/200\n",
      "15/15 [==============================] - 0s 10ms/step - loss: 0.0389 - accuracy: 0.9778 - val_loss: 3.7868 - val_accuracy: 0.8000\n",
      "Epoch 190/200\n",
      "15/15 [==============================] - 0s 10ms/step - loss: 0.1851 - accuracy: 0.9556 - val_loss: 3.5547 - val_accuracy: 0.6667\n",
      "Epoch 191/200\n",
      "15/15 [==============================] - 0s 10ms/step - loss: 0.2345 - accuracy: 0.9556 - val_loss: 3.3765 - val_accuracy: 0.7333\n",
      "Epoch 192/200\n",
      "15/15 [==============================] - 0s 10ms/step - loss: 0.0146 - accuracy: 1.0000 - val_loss: 4.8558 - val_accuracy: 0.7333\n",
      "Epoch 193/200\n",
      "15/15 [==============================] - 0s 10ms/step - loss: 0.0781 - accuracy: 0.9778 - val_loss: 0.1313 - val_accuracy: 0.8000\n",
      "Epoch 194/200\n",
      "15/15 [==============================] - 0s 10ms/step - loss: 0.0746 - accuracy: 0.9556 - val_loss: 0.4707 - val_accuracy: 0.6000\n",
      "Epoch 195/200\n",
      "15/15 [==============================] - 0s 10ms/step - loss: 0.0155 - accuracy: 1.0000 - val_loss: 2.1146 - val_accuracy: 0.5333\n",
      "Epoch 196/200\n",
      "15/15 [==============================] - 0s 10ms/step - loss: 0.0375 - accuracy: 0.9778 - val_loss: 0.5369 - val_accuracy: 0.7333\n",
      "Epoch 197/200\n",
      "15/15 [==============================] - 0s 10ms/step - loss: 0.0064 - accuracy: 1.0000 - val_loss: 5.3347 - val_accuracy: 0.7333\n",
      "Epoch 198/200\n",
      "15/15 [==============================] - 0s 10ms/step - loss: 0.0017 - accuracy: 1.0000 - val_loss: 5.4032 - val_accuracy: 0.7333\n",
      "Epoch 199/200\n",
      "15/15 [==============================] - 0s 10ms/step - loss: 0.0035 - accuracy: 1.0000 - val_loss: 3.6939 - val_accuracy: 0.7333\n",
      "Epoch 200/200\n",
      "15/15 [==============================] - 0s 10ms/step - loss: 0.0035 - accuracy: 1.0000 - val_loss: 5.8077 - val_accuracy: 0.7333\n"
     ]
    },
    {
     "data": {
      "text/plain": [
       "<keras.callbacks.callbacks.History at 0x28eb376ad88>"
      ]
     },
     "execution_count": 9,
     "metadata": {},
     "output_type": "execute_result"
    }
   ],
   "source": [
    "model.fit_generator(\n",
    "        train_generator,\n",
    "        steps_per_epoch=15,   # 원래는*100\n",
    "        epochs=200,\n",
    "        validation_data=test_generator,\n",
    "        validation_steps=5)"
   ]
  },
  {
   "cell_type": "markdown",
   "metadata": {
    "colab_type": "text",
    "id": "uT9NEiI-uy52"
   },
   "source": [
    "### 모델 평가하기"
   ]
  },
  {
   "cell_type": "code",
   "execution_count": 10,
   "metadata": {
    "colab": {
     "base_uri": "https://localhost:8080/",
     "height": 53
    },
    "colab_type": "code",
    "id": "XZ8jXxlIu1SE",
    "outputId": "38f36f23-013e-4793-c638-26f0bedb5b6e"
   },
   "outputs": [
    {
     "name": "stdout",
     "output_type": "stream",
     "text": [
      "-- Evaluate --\n",
      "accuracy: 73.33%\n"
     ]
    }
   ],
   "source": [
    "print(\"-- Evaluate --\")\n",
    "scores = model.evaluate_generator(test_generator, steps=5)\n",
    "print(\"%s: %.2f%%\" %(model.metrics_names[1], scores[1]*100))"
   ]
  },
  {
   "cell_type": "markdown",
   "metadata": {
    "colab_type": "text",
    "id": "QTlRD9Mqu9K6"
   },
   "source": [
    "### 모델 사용하기"
   ]
  },
  {
   "cell_type": "code",
   "execution_count": 11,
   "metadata": {
    "colab": {
     "base_uri": "https://localhost:8080/",
     "height": 323
    },
    "colab_type": "code",
    "id": "Wabhqvy-u48Q",
    "outputId": "d6b6ad06-8b60-4998-8ffb-3468141da43c"
   },
   "outputs": [
    {
     "name": "stdout",
     "output_type": "stream",
     "text": [
      "-- Predict --\n",
      "{'circle': 0, 'rectangle': 1, 'triangle': 2}\n",
      "[[0.001 0.996 0.003]\n",
      " [1.000 0.000 0.000]\n",
      " [0.000 1.000 0.000]\n",
      " [0.000 0.000 1.000]\n",
      " [0.000 0.000 1.000]\n",
      " [0.995 0.000 0.005]\n",
      " [0.000 0.000 1.000]\n",
      " [0.001 0.115 0.884]\n",
      " [0.000 0.000 1.000]\n",
      " [0.833 0.001 0.167]\n",
      " [0.004 0.888 0.108]\n",
      " [0.000 0.000 1.000]\n",
      " [0.000 0.000 1.000]\n",
      " [0.000 0.000 1.000]\n",
      " [0.000 0.000 1.000]]\n"
     ]
    }
   ],
   "source": [
    "print(\"-- Predict --\")\n",
    "output = model.predict_generator(test_generator, steps=5)\n",
    "np.set_printoptions(formatter={'float': lambda x: \"{0:0.3f}\".format(x)})\n",
    "print(test_generator.class_indices)\n",
    "print(output)"
   ]
  },
  {
   "cell_type": "code",
   "execution_count": 12,
   "metadata": {
    "colab": {},
    "colab_type": "code",
    "id": "jVItItOmvZOJ"
   },
   "outputs": [
    {
     "name": "stdout",
     "output_type": "stream",
     "text": [
      "circle\\circle021.png 0 1\n",
      "circle\\circle022.png 0 0\n",
      "circle\\circle023.png 0 1\n",
      "circle\\circle024.png 0 2\n",
      "circle\\circle025.png 0 2\n",
      "rectangle\\rectangle021.png 1 0\n",
      "rectangle\\rectangle022.png 1 2\n",
      "rectangle\\rectangle023.png 1 2\n",
      "rectangle\\rectangle024.png 1 2\n",
      "rectangle\\rectangle025.png 1 0\n",
      "triangle\\triangle021.png 2 1\n",
      "triangle\\triangle022.png 2 2\n",
      "triangle\\triangle023.png 2 2\n",
      "triangle\\triangle024.png 2 2\n",
      "triangle\\triangle025.png 2 2\n"
     ]
    }
   ],
   "source": [
    "for i in range(len(test_generator.labels)):\n",
    "    print(test_generator.filenames[i], test_generator.labels[i], np.argmax(output[i]))"
   ]
  }
 ],
 "metadata": {
  "colab": {
   "collapsed_sections": [],
   "name": "PolygonClassfication_03_DataAugmentation.ipynb",
   "provenance": [],
   "version": "0.3.2"
  },
  "kernelspec": {
   "display_name": "Python 3",
   "language": "python",
   "name": "python3"
  },
  "language_info": {
   "codemirror_mode": {
    "name": "ipython",
    "version": 3
   },
   "file_extension": ".py",
   "mimetype": "text/x-python",
   "name": "python",
   "nbconvert_exporter": "python",
   "pygments_lexer": "ipython3",
   "version": "3.7.7"
  }
 },
 "nbformat": 4,
 "nbformat_minor": 1
}
