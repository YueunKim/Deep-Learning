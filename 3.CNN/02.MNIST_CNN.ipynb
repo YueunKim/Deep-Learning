{
 "cells": [
  {
   "cell_type": "markdown",
   "metadata": {},
   "source": [
    "# 이미지 인식 - CNN\n",
    "## MNIST 사례"
   ]
  },
  {
   "cell_type": "code",
   "execution_count": 1,
   "metadata": {},
   "outputs": [
    {
     "name": "stderr",
     "output_type": "stream",
     "text": [
      "Using TensorFlow backend.\n"
     ]
    }
   ],
   "source": [
    "import numpy as np\n",
    "import tensorflow as tf\n",
    "from tensorflow import keras\n",
    "from keras.datasets import mnist\n",
    "from keras.models import Sequential\n",
    "from keras.layers import Dense, Dropout, Flatten, Conv2D, MaxPooling2D\n",
    "from keras.callbacks import ModelCheckpoint, EarlyStopping\n",
    "\n",
    "import os\n",
    "import matplotlib.pyplot as plt\n",
    "%matplotlib inline"
   ]
  },
  {
   "cell_type": "code",
   "execution_count": 2,
   "metadata": {},
   "outputs": [],
   "source": [
    "# seed 값 설정\n",
    "seed = 0\n",
    "np.random.seed(seed)\n",
    "tf.random.set_seed(seed)"
   ]
  },
  {
   "cell_type": "code",
   "execution_count": 3,
   "metadata": {},
   "outputs": [],
   "source": [
    "# 데이터 불러오기\n",
    "(X_train, Y_train), (X_test, Y_test) = mnist.load_data()\n",
    "X_train = X_train.reshape(-1, 28, 28, 1).astype('float32') / 255.0\n",
    "X_test = X_test.reshape(-1, 28, 28, 1).astype('float32') /225.0\n",
    "Y_train = keras.utils.to_categorical(Y_train)\n",
    "Y_test = keras.utils.to_categorical(Y_test)"
   ]
  },
  {
   "cell_type": "code",
   "execution_count": 4,
   "metadata": {},
   "outputs": [
    {
     "name": "stdout",
     "output_type": "stream",
     "text": [
      "Model: \"sequential_1\"\n",
      "_________________________________________________________________\n",
      "Layer (type)                 Output Shape              Param #   \n",
      "=================================================================\n",
      "conv2d_1 (Conv2D)            (None, 26, 26, 32)        320       \n",
      "_________________________________________________________________\n",
      "conv2d_2 (Conv2D)            (None, 24, 24, 64)        18496     \n",
      "_________________________________________________________________\n",
      "max_pooling2d_1 (MaxPooling2 (None, 12, 12, 64)        0         \n",
      "_________________________________________________________________\n",
      "dropout_1 (Dropout)          (None, 12, 12, 64)        0         \n",
      "_________________________________________________________________\n",
      "flatten_1 (Flatten)          (None, 9216)              0         \n",
      "_________________________________________________________________\n",
      "dense_1 (Dense)              (None, 128)               1179776   \n",
      "_________________________________________________________________\n",
      "dropout_2 (Dropout)          (None, 128)               0         \n",
      "_________________________________________________________________\n",
      "dense_2 (Dense)              (None, 10)                1290      \n",
      "=================================================================\n",
      "Total params: 1,199,882\n",
      "Trainable params: 1,199,882\n",
      "Non-trainable params: 0\n",
      "_________________________________________________________________\n"
     ]
    }
   ],
   "source": [
    "# 컨볼류션 신경망 설정\n",
    "model = Sequential([\n",
    "    Conv2D(32, kernel_size=(3, 3), input_shape=(28, 28, 1), activation='relu'),\n",
    "    Conv2D(64, (3, 3), activation='relu'),\n",
    "    MaxPooling2D(pool_size=2),\n",
    "    Dropout(0.25),\n",
    "    Flatten(),\n",
    "    Dense(128, activation='relu'),\n",
    "    Dropout(0.5),\n",
    "    Dense(10, activation='softmax')\n",
    "])\n",
    "model.summary()"
   ]
  },
  {
   "cell_type": "code",
   "execution_count": 5,
   "metadata": {},
   "outputs": [],
   "source": [
    "model.compile(loss = 'categorical_crossentropy',\n",
    "             optimizer = 'adam',\n",
    "             metrics = ['accuracy'])"
   ]
  },
  {
   "cell_type": "code",
   "execution_count": 6,
   "metadata": {},
   "outputs": [],
   "source": [
    "# 모델 최적화 설정\n",
    "MODEL_DIR = './model/'\n",
    "if not os.path.exists(MODEL_DIR):\n",
    "    os.mkdir(MODEL_DIR)"
   ]
  },
  {
   "cell_type": "code",
   "execution_count": 7,
   "metadata": {},
   "outputs": [],
   "source": [
    "modelpath = MODEL_DIR + \"mnist-cnn-{epoch:02d}-{val_loss:.4f}.hdf5\"\n",
    "checkpointer = ModelCheckpoint(filepath = modelpath, monitor = 'val_loss',\n",
    "                              verbose = 1, save_best_only = True)\n",
    "early_stopping_callback = EarlyStopping(monitor = 'val_loss',\n",
    "                                       patience = 10)"
   ]
  },
  {
   "cell_type": "code",
   "execution_count": 9,
   "metadata": {},
   "outputs": [
    {
     "name": "stdout",
     "output_type": "stream",
     "text": [
      "Train on 60000 samples, validate on 10000 samples\n",
      "Epoch 1/30\n",
      "60000/60000 [==============================] - 43s 718us/step - loss: 0.2852 - accuracy: 0.9117 - val_loss: 0.0529 - val_accuracy: 0.9826\n",
      "\n",
      "Epoch 00001: val_loss improved from inf to 0.05291, saving model to ./model/mnist-cnn-01-0.0529.hdf5\n",
      "Epoch 2/30\n",
      "60000/60000 [==============================] - 43s 719us/step - loss: 0.0891 - accuracy: 0.9737 - val_loss: 0.0415 - val_accuracy: 0.9864\n",
      "\n",
      "Epoch 00002: val_loss improved from 0.05291 to 0.04147, saving model to ./model/mnist-cnn-02-0.0415.hdf5\n",
      "Epoch 3/30\n",
      "60000/60000 [==============================] - 43s 718us/step - loss: 0.0687 - accuracy: 0.9789 - val_loss: 0.0358 - val_accuracy: 0.9880\n",
      "\n",
      "Epoch 00003: val_loss improved from 0.04147 to 0.03583, saving model to ./model/mnist-cnn-03-0.0358.hdf5\n",
      "Epoch 4/30\n",
      "60000/60000 [==============================] - 43s 718us/step - loss: 0.0542 - accuracy: 0.9835 - val_loss: 0.0378 - val_accuracy: 0.9885\n",
      "\n",
      "Epoch 00004: val_loss did not improve from 0.03583\n",
      "Epoch 5/30\n",
      "60000/60000 [==============================] - 43s 719us/step - loss: 0.0470 - accuracy: 0.9853 - val_loss: 0.0405 - val_accuracy: 0.9889\n",
      "\n",
      "Epoch 00005: val_loss did not improve from 0.03583\n",
      "Epoch 6/30\n",
      "60000/60000 [==============================] - 43s 722us/step - loss: 0.0408 - accuracy: 0.9874 - val_loss: 0.0331 - val_accuracy: 0.9899\n",
      "\n",
      "Epoch 00006: val_loss improved from 0.03583 to 0.03315, saving model to ./model/mnist-cnn-06-0.0331.hdf5\n",
      "Epoch 7/30\n",
      "60000/60000 [==============================] - 44s 725us/step - loss: 0.0343 - accuracy: 0.9892 - val_loss: 0.0356 - val_accuracy: 0.9897\n",
      "\n",
      "Epoch 00007: val_loss did not improve from 0.03315\n",
      "Epoch 8/30\n",
      "60000/60000 [==============================] - 43s 718us/step - loss: 0.0328 - accuracy: 0.9895 - val_loss: 0.0350 - val_accuracy: 0.9899\n",
      "\n",
      "Epoch 00008: val_loss did not improve from 0.03315\n",
      "Epoch 9/30\n",
      "60000/60000 [==============================] - 43s 716us/step - loss: 0.0284 - accuracy: 0.9908 - val_loss: 0.0316 - val_accuracy: 0.9907\n",
      "\n",
      "Epoch 00009: val_loss improved from 0.03315 to 0.03161, saving model to ./model/mnist-cnn-09-0.0316.hdf5\n",
      "Epoch 10/30\n",
      "60000/60000 [==============================] - 43s 723us/step - loss: 0.0269 - accuracy: 0.9914 - val_loss: 0.0337 - val_accuracy: 0.9906\n",
      "\n",
      "Epoch 00010: val_loss did not improve from 0.03161\n",
      "Epoch 11/30\n",
      "60000/60000 [==============================] - 43s 714us/step - loss: 0.0253 - accuracy: 0.9916 - val_loss: 0.0330 - val_accuracy: 0.9909\n",
      "\n",
      "Epoch 00011: val_loss did not improve from 0.03161\n",
      "Epoch 12/30\n",
      "60000/60000 [==============================] - 43s 714us/step - loss: 0.0228 - accuracy: 0.9923 - val_loss: 0.0302 - val_accuracy: 0.9920\n",
      "\n",
      "Epoch 00012: val_loss improved from 0.03161 to 0.03020, saving model to ./model/mnist-cnn-12-0.0302.hdf5\n",
      "Epoch 13/30\n",
      "60000/60000 [==============================] - 43s 718us/step - loss: 0.0228 - accuracy: 0.9926 - val_loss: 0.0352 - val_accuracy: 0.9902\n",
      "\n",
      "Epoch 00013: val_loss did not improve from 0.03020\n",
      "Epoch 14/30\n",
      "60000/60000 [==============================] - 43s 714us/step - loss: 0.0201 - accuracy: 0.9934 - val_loss: 0.0322 - val_accuracy: 0.9910\n",
      "\n",
      "Epoch 00014: val_loss did not improve from 0.03020\n",
      "Epoch 15/30\n",
      "60000/60000 [==============================] - 43s 712us/step - loss: 0.0195 - accuracy: 0.9935 - val_loss: 0.0338 - val_accuracy: 0.9915\n",
      "\n",
      "Epoch 00015: val_loss did not improve from 0.03020\n",
      "Epoch 16/30\n",
      "60000/60000 [==============================] - 43s 718us/step - loss: 0.0191 - accuracy: 0.9936 - val_loss: 0.0326 - val_accuracy: 0.9919\n",
      "\n",
      "Epoch 00016: val_loss did not improve from 0.03020\n",
      "Epoch 17/30\n",
      "60000/60000 [==============================] - 43s 718us/step - loss: 0.0179 - accuracy: 0.9941 - val_loss: 0.0370 - val_accuracy: 0.9906\n",
      "\n",
      "Epoch 00017: val_loss did not improve from 0.03020\n",
      "Epoch 18/30\n",
      "60000/60000 [==============================] - 43s 723us/step - loss: 0.0153 - accuracy: 0.9948 - val_loss: 0.0370 - val_accuracy: 0.9919\n",
      "\n",
      "Epoch 00018: val_loss did not improve from 0.03020\n",
      "Epoch 19/30\n",
      "60000/60000 [==============================] - 43s 721us/step - loss: 0.0140 - accuracy: 0.9950 - val_loss: 0.0315 - val_accuracy: 0.9927\n",
      "\n",
      "Epoch 00019: val_loss did not improve from 0.03020\n",
      "Epoch 20/30\n",
      "60000/60000 [==============================] - 43s 719us/step - loss: 0.0155 - accuracy: 0.9948 - val_loss: 0.0316 - val_accuracy: 0.9924\n",
      "\n",
      "Epoch 00020: val_loss did not improve from 0.03020\n",
      "Epoch 21/30\n",
      "60000/60000 [==============================] - 43s 713us/step - loss: 0.0129 - accuracy: 0.9955 - val_loss: 0.0340 - val_accuracy: 0.9920\n",
      "\n",
      "Epoch 00021: val_loss did not improve from 0.03020\n",
      "Epoch 22/30\n",
      "60000/60000 [==============================] - 43s 712us/step - loss: 0.0140 - accuracy: 0.9952 - val_loss: 0.0309 - val_accuracy: 0.9925\n",
      "\n",
      "Epoch 00022: val_loss did not improve from 0.03020\n"
     ]
    }
   ],
   "source": [
    "# 모델의 실행\n",
    "history = model.fit(X_train, Y_train, validation_data=(X_test, Y_test), epochs=30,\n",
    "                    batch_size=200, #epochs=5, verbose=2, \n",
    "                    callbacks=[early_stopping_callback, checkpointer])"
   ]
  },
  {
   "cell_type": "code",
   "execution_count": 10,
   "metadata": {},
   "outputs": [],
   "source": [
    "from tensorflow.keras.models import load_model\n",
    "del model\n",
    "model = load_model('model/mnist-cnn-12-0.0302.hdf5')"
   ]
  },
  {
   "cell_type": "code",
   "execution_count": 11,
   "metadata": {},
   "outputs": [
    {
     "name": "stdout",
     "output_type": "stream",
     "text": [
      "\n",
      " Test Accuracy: 0.9920\n"
     ]
    }
   ],
   "source": [
    "# 테스트 정확도 출력\n",
    "print(\"\\n Test Accuracy: %.4f\" % (model.evaluate(X_test, Y_test, verbose = 0)[1]))"
   ]
  },
  {
   "cell_type": "code",
   "execution_count": 12,
   "metadata": {},
   "outputs": [],
   "source": [
    "# 테스트셋의 오차\n",
    "y_vloss = history.history['val_loss']\n",
    "\n",
    "# 학습셋의 오차\n",
    "y_loss = history.history['loss']"
   ]
  },
  {
   "cell_type": "code",
   "execution_count": 13,
   "metadata": {},
   "outputs": [
    {
     "data": {
      "image/png": "[encoded data removed]",
      "text/plain": [
       "<Figure size 576x432 with 1 Axes>"
      ]
     },
     "metadata": {
      "needs_background": "light"
     },
     "output_type": "display_data"
    }
   ],
   "source": [
    "# 그래프로 표현\n",
    "x_len = np.arange(1,len(y_vloss)+1)\n",
    "plt.figure(figsize = (8,6))\n",
    "plt.plot(x_len, y_vloss, marker = '.', c = \"red\", label ='Testset_loss')\n",
    "plt.plot(x_len, y_loss, marker = '.', c='blue', label = 'Trainset_loss')\n",
    "\n",
    "# 그래프에 그리드를 주고 레이블을 표시\n",
    "plt.legend(loc = 'upper right')\n",
    "# plt.axis([0, 20, 0, 0.35])\n",
    "plt.grid()\n",
    "plt.xlabel('epoch')\n",
    "plt.ylabel('loss')\n",
    "plt.show()"
   ]
  },
  {
   "cell_type": "markdown",
   "metadata": {},
   "source": [
    "### 결론 : best model은 epoch 12, 정확도는 99.20%"
   ]
  }
 ],
 "metadata": {
  "kernelspec": {
   "display_name": "Python 3",
   "language": "python",
   "name": "python3"
  },
  "language_info": {
   "codemirror_mode": {
    "name": "ipython",
    "version": 3
   },
   "file_extension": ".py",
   "mimetype": "text/x-python",
   "name": "python",
   "nbconvert_exporter": "python",
   "pygments_lexer": "ipython3",
   "version": "3.7.7"
  }
 },
 "nbformat": 4,
 "nbformat_minor": 4
}
