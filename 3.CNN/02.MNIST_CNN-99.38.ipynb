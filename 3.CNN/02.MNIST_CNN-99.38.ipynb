{
 "cells": [
  {
   "cell_type": "markdown",
   "metadata": {},
   "source": [
    "# 이미지 인식 - CNN\n",
    "## MNIST 사례"
   ]
  },
  {
   "cell_type": "code",
   "execution_count": 1,
   "metadata": {},
   "outputs": [
    {
     "name": "stderr",
     "output_type": "stream",
     "text": [
      "Using TensorFlow backend.\n"
     ]
    }
   ],
   "source": [
    "import numpy as np\n",
    "import tensorflow as tf\n",
    "from tensorflow import keras\n",
    "from keras.datasets import mnist\n",
    "from keras.models import Sequential\n",
    "from keras.layers import Dense, Dropout, Flatten, Conv2D, MaxPooling2D\n",
    "from keras.callbacks import ModelCheckpoint, EarlyStopping\n",
    "\n",
    "import os\n",
    "import matplotlib.pyplot as plt\n",
    "%matplotlib inline"
   ]
  },
  {
   "cell_type": "code",
   "execution_count": 2,
   "metadata": {},
   "outputs": [],
   "source": [
    "# seed 값 설정\n",
    "seed = 0\n",
    "np.random.seed(seed)\n",
    "tf.random.set_seed(seed)"
   ]
  },
  {
   "cell_type": "code",
   "execution_count": 3,
   "metadata": {},
   "outputs": [],
   "source": [
    "# 데이터 불러오기\n",
    "(X_train, Y_train), (X_test, Y_test) = mnist.load_data()\n",
    "X_train = X_train.reshape(-1, 28, 28, 1).astype('float32') / 255.0\n",
    "X_test = X_test.reshape(-1, 28, 28, 1).astype('float32') /225.0\n",
    "Y_train = keras.utils.to_categorical(Y_train)\n",
    "Y_test = keras.utils.to_categorical(Y_test)"
   ]
  },
  {
   "cell_type": "code",
   "execution_count": 6,
   "metadata": {},
   "outputs": [],
   "source": [
    "# BUILD CONVOLUTIONAL NEURAL NETWORKS\n",
    "from keras.layers import BatchNormalization\n",
    "\n",
    "model = Sequential()\n",
    "\n",
    "model.add(Conv2D(32, kernel_size = 3, activation='relu', input_shape = (28, 28, 1)))\n",
    "model.add(BatchNormalization())\n",
    "model.add(Conv2D(32, kernel_size = 3, activation='relu'))\n",
    "model.add(BatchNormalization())\n",
    "model.add(Conv2D(32, kernel_size = 5, strides=2, padding='same', activation='relu'))\n",
    "model.add(BatchNormalization())\n",
    "model.add(Dropout(0.4))\n",
    "\n",
    "model.add(Conv2D(64, kernel_size = 3, activation='relu'))\n",
    "model.add(BatchNormalization())\n",
    "model.add(Conv2D(64, kernel_size = 3, activation='relu'))\n",
    "model.add(BatchNormalization())\n",
    "model.add(Conv2D(64, kernel_size = 5, strides=2, padding='same', activation='relu'))\n",
    "model.add(BatchNormalization())\n",
    "model.add(Dropout(0.4))\n",
    "\n",
    "model.add(Conv2D(128, kernel_size = 4, activation='relu'))\n",
    "model.add(BatchNormalization())\n",
    "model.add(Flatten())\n",
    "model.add(Dropout(0.4))\n",
    "model.add(Dense(10, activation='softmax'))\n"
   ]
  },
  {
   "cell_type": "code",
   "execution_count": 7,
   "metadata": {},
   "outputs": [],
   "source": [
    "model.compile(loss = 'categorical_crossentropy',\n",
    "             optimizer = 'adam',\n",
    "             metrics = ['accuracy'])"
   ]
  },
  {
   "cell_type": "code",
   "execution_count": 8,
   "metadata": {},
   "outputs": [],
   "source": [
    "# 모델 최적화 설정\n",
    "MODEL_DIR = './model/'\n",
    "if not os.path.exists(MODEL_DIR):\n",
    "    os.mkdir(MODEL_DIR)"
   ]
  },
  {
   "cell_type": "code",
   "execution_count": 9,
   "metadata": {},
   "outputs": [],
   "source": [
    "modelpath = MODEL_DIR + \"mnist-cnn-{epoch:02d}-{val_loss:.4f}.hdf5\"\n",
    "checkpointer = ModelCheckpoint(filepath = modelpath, monitor = 'val_loss',\n",
    "                              verbose = 1, save_best_only = True)\n",
    "early_stopping_callback = EarlyStopping(monitor = 'val_loss',\n",
    "                                       patience = 10)"
   ]
  },
  {
   "cell_type": "code",
   "execution_count": 10,
   "metadata": {},
   "outputs": [
    {
     "name": "stdout",
     "output_type": "stream",
     "text": [
      "Train on 60000 samples, validate on 10000 samples\n",
      "Epoch 1/30\n",
      "60000/60000 [==============================] - 99s 2ms/step - loss: 0.2581 - accuracy: 0.9210 - val_loss: 1.5781 - val_accuracy: 0.5070\n",
      "\n",
      "Epoch 00001: val_loss improved from inf to 1.57812, saving model to ./model/mnist-cnn-01-1.5781.hdf5\n",
      "Epoch 2/30\n",
      "60000/60000 [==============================] - 95s 2ms/step - loss: 0.0645 - accuracy: 0.9803 - val_loss: 0.0558 - val_accuracy: 0.9828\n",
      "\n",
      "Epoch 00002: val_loss improved from 1.57812 to 0.05582, saving model to ./model/mnist-cnn-02-0.0558.hdf5\n",
      "Epoch 3/30\n",
      "60000/60000 [==============================] - 99s 2ms/step - loss: 0.0490 - accuracy: 0.9848 - val_loss: 0.0370 - val_accuracy: 0.9879\n",
      "\n",
      "Epoch 00003: val_loss improved from 0.05582 to 0.03700, saving model to ./model/mnist-cnn-03-0.0370.hdf5\n",
      "Epoch 4/30\n",
      "60000/60000 [==============================] - 106s 2ms/step - loss: 0.0377 - accuracy: 0.9887 - val_loss: 0.0308 - val_accuracy: 0.9922\n",
      "\n",
      "Epoch 00004: val_loss improved from 0.03700 to 0.03077, saving model to ./model/mnist-cnn-04-0.0308.hdf5\n",
      "Epoch 5/30\n",
      "60000/60000 [==============================] - 103s 2ms/step - loss: 0.0349 - accuracy: 0.9892 - val_loss: 0.0259 - val_accuracy: 0.9925\n",
      "\n",
      "Epoch 00005: val_loss improved from 0.03077 to 0.02588, saving model to ./model/mnist-cnn-05-0.0259.hdf5\n",
      "Epoch 6/30\n",
      "60000/60000 [==============================] - 102s 2ms/step - loss: 0.0297 - accuracy: 0.9907 - val_loss: 0.0249 - val_accuracy: 0.9925\n",
      "\n",
      "Epoch 00006: val_loss improved from 0.02588 to 0.02490, saving model to ./model/mnist-cnn-06-0.0249.hdf5\n",
      "Epoch 7/30\n",
      "60000/60000 [==============================] - 95s 2ms/step - loss: 0.0280 - accuracy: 0.9910 - val_loss: 0.0184 - val_accuracy: 0.9938\n",
      "\n",
      "Epoch 00007: val_loss improved from 0.02490 to 0.01842, saving model to ./model/mnist-cnn-07-0.0184.hdf5\n",
      "Epoch 8/30\n",
      "60000/60000 [==============================] - 97s 2ms/step - loss: 0.0248 - accuracy: 0.9919 - val_loss: 0.0191 - val_accuracy: 0.9942\n",
      "\n",
      "Epoch 00008: val_loss did not improve from 0.01842\n",
      "Epoch 9/30\n",
      "60000/60000 [==============================] - 104s 2ms/step - loss: 0.0232 - accuracy: 0.9930 - val_loss: 0.0231 - val_accuracy: 0.9929\n",
      "\n",
      "Epoch 00009: val_loss did not improve from 0.01842\n",
      "Epoch 10/30\n",
      "60000/60000 [==============================] - 98s 2ms/step - loss: 0.0213 - accuracy: 0.9933 - val_loss: 0.0277 - val_accuracy: 0.9925\n",
      "\n",
      "Epoch 00010: val_loss did not improve from 0.01842\n",
      "Epoch 11/30\n",
      "60000/60000 [==============================] - 100s 2ms/step - loss: 0.0213 - accuracy: 0.9933 - val_loss: 0.0204 - val_accuracy: 0.9947\n",
      "\n",
      "Epoch 00011: val_loss did not improve from 0.01842\n",
      "Epoch 12/30\n",
      "60000/60000 [==============================] - 96s 2ms/step - loss: 0.0216 - accuracy: 0.9930 - val_loss: 0.0252 - val_accuracy: 0.9922\n",
      "\n",
      "Epoch 00012: val_loss did not improve from 0.01842\n",
      "Epoch 13/30\n",
      "60000/60000 [==============================] - 113s 2ms/step - loss: 0.0193 - accuracy: 0.9937 - val_loss: 0.0190 - val_accuracy: 0.9940\n",
      "\n",
      "Epoch 00013: val_loss did not improve from 0.01842\n",
      "Epoch 14/30\n",
      "60000/60000 [==============================] - 95s 2ms/step - loss: 0.0179 - accuracy: 0.9944 - val_loss: 0.0189 - val_accuracy: 0.9943\n",
      "\n",
      "Epoch 00014: val_loss did not improve from 0.01842\n",
      "Epoch 15/30\n",
      "60000/60000 [==============================] - 96s 2ms/step - loss: 0.0173 - accuracy: 0.9943 - val_loss: 0.0202 - val_accuracy: 0.9941\n",
      "\n",
      "Epoch 00015: val_loss did not improve from 0.01842\n",
      "Epoch 16/30\n",
      "60000/60000 [==============================] - 117s 2ms/step - loss: 0.0152 - accuracy: 0.9951 - val_loss: 0.0262 - val_accuracy: 0.9932\n",
      "\n",
      "Epoch 00016: val_loss did not improve from 0.01842\n",
      "Epoch 17/30\n",
      "60000/60000 [==============================] - 96s 2ms/step - loss: 0.0153 - accuracy: 0.9950 - val_loss: 0.0242 - val_accuracy: 0.9937\n",
      "\n",
      "Epoch 00017: val_loss did not improve from 0.01842\n"
     ]
    }
   ],
   "source": [
    "# 모델의 실행\n",
    "history = model.fit(X_train, Y_train, validation_data=(X_test, Y_test), epochs=30,\n",
    "                    batch_size=200, #epochs=5, verbose=2, \n",
    "                    callbacks=[early_stopping_callback, checkpointer])"
   ]
  },
  {
   "cell_type": "code",
   "execution_count": 11,
   "metadata": {},
   "outputs": [],
   "source": [
    "from tensorflow.keras.models import load_model\n",
    "del model\n",
    "model = load_model('model/mnist-cnn-07-0.0184.hdf5')"
   ]
  },
  {
   "cell_type": "code",
   "execution_count": 12,
   "metadata": {},
   "outputs": [
    {
     "name": "stdout",
     "output_type": "stream",
     "text": [
      "\n",
      " Test Accuracy: 0.9938\n"
     ]
    }
   ],
   "source": [
    "# 테스트 정확도 출력\n",
    "print(\"\\n Test Accuracy: %.4f\" % (model.evaluate(X_test, Y_test, verbose = 0)[1]))"
   ]
  },
  {
   "cell_type": "code",
   "execution_count": 13,
   "metadata": {},
   "outputs": [],
   "source": [
    "# 테스트셋의 오차\n",
    "y_vloss = history.history['val_loss']\n",
    "\n",
    "# 학습셋의 오차\n",
    "y_loss = history.history['loss']"
   ]
  },
  {
   "cell_type": "code",
   "execution_count": 18,
   "metadata": {},
   "outputs": [
    {
     "data": {
      "image/png": "[encoded data removed]",
      "text/plain": [
       "<Figure size 576x432 with 1 Axes>"
      ]
     },
     "metadata": {
      "needs_background": "light"
     },
     "output_type": "display_data"
    }
   ],
   "source": [
    "# 그래프로 표현\n",
    "x_len = np.arange(1,len(y_vloss)+1)\n",
    "plt.figure(figsize = (8,6))\n",
    "plt.plot(x_len, y_vloss, marker = '.', c = \"red\", label ='Testset_loss')\n",
    "plt.plot(x_len, y_loss, marker = '.', c='blue', label = 'Trainset_loss')\n",
    "\n",
    "# 그래프에 그리드를 주고 레이블을 표시\n",
    "plt.legend(loc = 'upper right')\n",
    "# plt.axis([0, 20, 0, 0.35])\n",
    "plt.grid()\n",
    "plt.ylim(0,0.2)\n",
    "plt.xlabel('epoch')\n",
    "plt.ylabel('loss')\n",
    "plt.show()"
   ]
  },
  {
   "cell_type": "markdown",
   "metadata": {},
   "source": [
    "### 결론 : best model은 epoch 7, 정확도는 99.38%"
   ]
  }
 ],
 "metadata": {
  "kernelspec": {
   "display_name": "Python 3",
   "language": "python",
   "name": "python3"
  },
  "language_info": {
   "codemirror_mode": {
    "name": "ipython",
    "version": 3
   },
   "file_extension": ".py",
   "mimetype": "text/x-python",
   "name": "python",
   "nbconvert_exporter": "python",
   "pygments_lexer": "ipython3",
   "version": "3.7.7"
  }
 },
 "nbformat": 4,
 "nbformat_minor": 4
}
