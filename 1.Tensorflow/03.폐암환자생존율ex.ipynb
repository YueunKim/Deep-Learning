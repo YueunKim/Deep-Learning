{
 "cells": [
  {
   "cell_type": "markdown",
   "metadata": {},
   "source": [
    "# 폐암 수술 환자의 생존율 데이터 분석"
   ]
  },
  {
   "cell_type": "code",
   "execution_count": 1,
   "metadata": {},
   "outputs": [
    {
     "data": {
      "text/plain": [
       "'2.1.0'"
      ]
     },
     "execution_count": 1,
     "metadata": {},
     "output_type": "execute_result"
    }
   ],
   "source": [
    "# 필요한 라이브러리\n",
    "import numpy as np\n",
    "import tensorflow as tf\n",
    "tf.__version__"
   ]
  },
  {
   "cell_type": "code",
   "execution_count": 2,
   "metadata": {},
   "outputs": [],
   "source": [
    "# 실행할 때마다 같은 결과를 출력하기 위한 seed 값 설정\n",
    "seed = 2020\n",
    "np.random.seed(seed)\n",
    "tf.random.set_seed(seed)"
   ]
  },
  {
   "cell_type": "code",
   "execution_count": 5,
   "metadata": {},
   "outputs": [
    {
     "data": {
      "text/plain": [
       "array([[293.  ,   1.  ,   3.8 ,   2.8 ,   0.  ,   0.  ,   0.  ,   0.  ,\n",
       "          0.  ,   0.  ,  12.  ,   0.  ,   0.  ,   0.  ,   1.  ,   0.  ,\n",
       "         62.  ,   0.  ],\n",
       "       [  1.  ,   2.  ,   2.88,   2.16,   1.  ,   0.  ,   0.  ,   0.  ,\n",
       "          1.  ,   1.  ,  14.  ,   0.  ,   0.  ,   0.  ,   1.  ,   0.  ,\n",
       "         60.  ,   0.  ],\n",
       "       [  8.  ,   2.  ,   3.19,   2.5 ,   1.  ,   0.  ,   0.  ,   0.  ,\n",
       "          1.  ,   0.  ,  11.  ,   0.  ,   0.  ,   1.  ,   1.  ,   0.  ,\n",
       "         66.  ,   1.  ]])"
      ]
     },
     "execution_count": 5,
     "metadata": {},
     "output_type": "execute_result"
    }
   ],
   "source": [
    "# 준비된 수술 환자 데이터를 불러들임\n",
    "Data_set = np.loadtxt(\"../dataset/ThoraricSurgery.csv\", delimiter=\",\")\n",
    "Data_set[:3,:]"
   ]
  },
  {
   "cell_type": "code",
   "execution_count": 6,
   "metadata": {},
   "outputs": [
    {
     "data": {
      "text/plain": [
       "((470, 17), (470,))"
      ]
     },
     "execution_count": 6,
     "metadata": {},
     "output_type": "execute_result"
    }
   ],
   "source": [
    "# 환자의 기록과 수술 결과를 X와 Y로 구분하여 저장\n",
    "X = Data_set[:, 0:17] # X = x_train , Y = y_trian\n",
    "Y = Data_set[:, 17]\n",
    "X.shape, Y.shape"
   ]
  },
  {
   "cell_type": "code",
   "execution_count": 7,
   "metadata": {},
   "outputs": [],
   "source": [
    "from tensorflow.keras.models import Sequential\n",
    "from tensorflow.keras.layers import Dense"
   ]
  },
  {
   "cell_type": "code",
   "execution_count": 8,
   "metadata": {},
   "outputs": [
    {
     "name": "stdout",
     "output_type": "stream",
     "text": [
      "Model: \"sequential\"\n",
      "_________________________________________________________________\n",
      "Layer (type)                 Output Shape              Param #   \n",
      "=================================================================\n",
      "dense (Dense)                (None, 30)                540       \n",
      "_________________________________________________________________\n",
      "dense_1 (Dense)              (None, 1)                 31        \n",
      "=================================================================\n",
      "Total params: 571\n",
      "Trainable params: 571\n",
      "Non-trainable params: 0\n",
      "_________________________________________________________________\n"
     ]
    }
   ],
   "source": [
    "# 딥러닝 모델 설정\n",
    "model = Sequential([\n",
    "    Dense(30, input_shape=(17,), activation='relu'),\n",
    "    Dense(1, activation='sigmoid') \n",
    "    # input 17개 -(relu)-> hiddenlayer 30개 -(sigmoid)-> output 1개\n",
    "])\n",
    "model.summary()"
   ]
  },
  {
   "cell_type": "code",
   "execution_count": 9,
   "metadata": {},
   "outputs": [],
   "source": [
    "# 모델설정 후에는 loss, optimizer, metrics 설정!\n",
    "# 딥러닝 환경 설정 (오차함수, 최적화함수)\n",
    "model.compile(loss='binary_crossentropy', optimizer='adam', metrics=['accuracy'])"
   ]
  },
  {
   "cell_type": "code",
   "execution_count": 13,
   "metadata": {},
   "outputs": [
    {
     "name": "stdout",
     "output_type": "stream",
     "text": [
      "Train on 470 samples\n",
      "Epoch 1/20\n",
      "470/470 [==============================] - 0s 89us/sample - loss: 0.4482 - accuracy: 0.8489\n",
      "Epoch 2/20\n",
      "470/470 [==============================] - 0s 79us/sample - loss: 0.4340 - accuracy: 0.8426\n",
      "Epoch 3/20\n",
      "470/470 [==============================] - 0s 79us/sample - loss: 0.4350 - accuracy: 0.8532\n",
      "Epoch 4/20\n",
      "470/470 [==============================] - 0s 79us/sample - loss: 0.4153 - accuracy: 0.8574\n",
      "Epoch 5/20\n",
      "470/470 [==============================] - 0s 83us/sample - loss: 0.4425 - accuracy: 0.8340\n",
      "Epoch 6/20\n",
      "470/470 [==============================] - 0s 78us/sample - loss: 0.4353 - accuracy: 0.8426\n",
      "Epoch 7/20\n",
      "470/470 [==============================] - 0s 79us/sample - loss: 0.4292 - accuracy: 0.8298\n",
      "Epoch 8/20\n",
      "470/470 [==============================] - 0s 81us/sample - loss: 0.4596 - accuracy: 0.8447\n",
      "Epoch 9/20\n",
      "470/470 [==============================] - 0s 83us/sample - loss: 0.4225 - accuracy: 0.8489\n",
      "Epoch 10/20\n",
      "470/470 [==============================] - 0s 81us/sample - loss: 0.4332 - accuracy: 0.8553\n",
      "Epoch 11/20\n",
      "470/470 [==============================] - 0s 81us/sample - loss: 0.4002 - accuracy: 0.8489\n",
      "Epoch 12/20\n",
      "470/470 [==============================] - 0s 83us/sample - loss: 0.4567 - accuracy: 0.8511\n",
      "Epoch 13/20\n",
      "470/470 [==============================] - 0s 81us/sample - loss: 0.4424 - accuracy: 0.8489\n",
      "Epoch 14/20\n",
      "470/470 [==============================] - 0s 81us/sample - loss: 0.4456 - accuracy: 0.8298\n",
      "Epoch 15/20\n",
      "470/470 [==============================] - 0s 79us/sample - loss: 0.4891 - accuracy: 0.8319\n",
      "Epoch 16/20\n",
      "470/470 [==============================] - 0s 74us/sample - loss: 0.4367 - accuracy: 0.8489\n",
      "Epoch 17/20\n",
      "470/470 [==============================] - 0s 81us/sample - loss: 0.4442 - accuracy: 0.8383\n",
      "Epoch 18/20\n",
      "470/470 [==============================] - 0s 79us/sample - loss: 0.4222 - accuracy: 0.8553\n",
      "Epoch 19/20\n",
      "470/470 [==============================] - 0s 74us/sample - loss: 0.4622 - accuracy: 0.8362\n",
      "Epoch 20/20\n",
      "470/470 [==============================] - 0s 76us/sample - loss: 0.4529 - accuracy: 0.8468\n"
     ]
    },
    {
     "data": {
      "text/plain": [
       "<tensorflow.python.keras.callbacks.History at 0x21355f35908>"
      ]
     },
     "execution_count": 13,
     "metadata": {},
     "output_type": "execute_result"
    }
   ],
   "source": [
    "# 딥러닝 학습\n",
    "model.fit(X, Y, epochs=20, batch_size=10) # 20회 반복, batch_size는 한번에 읽을 갯수"
   ]
  },
  {
   "cell_type": "code",
   "execution_count": 14,
   "metadata": {},
   "outputs": [
    {
     "name": "stdout",
     "output_type": "stream",
     "text": [
      "470/470 - 0s - loss: 0.3966 - accuracy: 0.8553\n",
      "\n",
      " Accuracy: 0.8553\n"
     ]
    }
   ],
   "source": [
    "# 결과 출력\n",
    "# evaluate() returns the loss value & metrics values for the model \n",
    "print(\"\\n Accuracy: %.4f\" % (model.evaluate(X, Y, verbose=2))[1])\n",
    "# 숫자 조금씩 다를 수 있음!"
   ]
  }
 ],
 "metadata": {
  "kernelspec": {
   "display_name": "Python 3",
   "language": "python",
   "name": "python3"
  },
  "language_info": {
   "codemirror_mode": {
    "name": "ipython",
    "version": 3
   },
   "file_extension": ".py",
   "mimetype": "text/x-python",
   "name": "python",
   "nbconvert_exporter": "python",
   "pygments_lexer": "ipython3",
   "version": "3.7.7"
  }
 },
 "nbformat": 4,
 "nbformat_minor": 4
}
